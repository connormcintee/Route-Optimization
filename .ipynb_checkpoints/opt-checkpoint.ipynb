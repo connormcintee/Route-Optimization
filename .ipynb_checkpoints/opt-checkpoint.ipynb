{
 "cells": [
  {
   "cell_type": "code",
   "execution_count": 2,
   "metadata": {},
   "outputs": [],
   "source": [
    "from Second_stage import Optimizer"
   ]
  },
  {
   "cell_type": "code",
   "execution_count": 3,
   "metadata": {},
   "outputs": [
    {
     "name": "stdout",
     "output_type": "stream",
     "text": [
      "[0, 11, 43, 10, 12, 8, 40, 9, 7, 6, 5, 4, 3, 2, 32, 15, 17, 33, 16, 14, 13, 20, 34, 19, 18, 21, 21]\n",
      "[166]\n",
      "60.76\n"
     ]
    }
   ],
   "source": [
    "opt=Optimizer()\n",
    "opt.creat_route_objects()\n",
    "Route3 =opt.routes[1]\n",
    "print(Route3.route)\n",
    "print(Route3.schools)\n",
    "print(Route3.time)"
   ]
  },
  {
   "cell_type": "code",
   "execution_count": null,
   "metadata": {},
   "outputs": [],
   "source": []
  }
 ],
 "metadata": {
  "kernelspec": {
   "display_name": "Python 3",
   "language": "python",
   "name": "python3"
  },
  "language_info": {
   "codemirror_mode": {
    "name": "ipython",
    "version": 3
   },
   "file_extension": ".py",
   "mimetype": "text/x-python",
   "name": "python",
   "nbconvert_exporter": "python",
   "pygments_lexer": "ipython3",
   "version": "3.8.5"
  }
 },
 "nbformat": 4,
 "nbformat_minor": 1
}
